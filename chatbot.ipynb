{
  "nbformat": 4,
  "nbformat_minor": 0,
  "metadata": {
    "colab": {
      "provenance": [],
      "include_colab_link": true
    },
    "kernelspec": {
      "name": "python3",
      "display_name": "Python 3"
    },
    "language_info": {
      "name": "python"
    }
  },
  "cells": [
    {
      "cell_type": "markdown",
      "metadata": {
        "id": "view-in-github",
        "colab_type": "text"
      },
      "source": [
        "<a href=\"https://colab.research.google.com/github/dcontrerascaballol/script_varios/blob/main/chatbot.ipynb\" target=\"_parent\"><img src=\"https://colab.research.google.com/assets/colab-badge.svg\" alt=\"Open In Colab\"/></a>"
      ]
    },
    {
      "cell_type": "code",
      "metadata": {
        "id": "KFGyuets1jh4"
      },
      "source": [
        "# Se debe generar un chatbot que permita responder consultas a la base de Spotify\n",
        "\n",
        "# Se estima que se debe generar ciclos for, apoyadado con la generacion de funciones"
      ],
      "execution_count": null,
      "outputs": []
    },
    {
      "cell_type": "code",
      "metadata": {
        "colab": {
          "base_uri": "https://localhost:8080/"
        },
        "id": "ZzVFMHG6u3YA",
        "outputId": "f9575815-f0d8-4824-dc8d-acf110538709"
      },
      "source": [
        "import pandas as pd\n",
        "import numpy as np\n",
        "import matplotlib.pyplot as plt\n",
        "from google.colab import data_table\n",
        "!pip install funpymodeling\n",
        "from funpymodeling.exploratory import status, profiling_num, freq_tbl\n",
        "\n",
        "\n",
        "df_songs= pd.read_csv('https://raw.githubusercontent.com/rfordatascience/tidytuesday/master/data/2020/2020-01-21/spotify_songs.csv')\n"
      ],
      "execution_count": null,
      "outputs": [
        {
          "output_type": "stream",
          "text": [
            "Collecting funpymodeling\n",
            "  Downloading https://files.pythonhosted.org/packages/2c/ab/849bdc74b3323ef11a4c4af86be8c1ddc4ebc118cff4b8b2036fce8f0c77/funpymodeling-0.1.7-py3-none-any.whl\n",
            "Collecting seaborn<0.11.0,>=0.10.1\n",
            "\u001b[?25l  Downloading https://files.pythonhosted.org/packages/c7/e6/54aaaafd0b87f51dfba92ba73da94151aa3bc179e5fe88fc5dfb3038e860/seaborn-0.10.1-py3-none-any.whl (215kB)\n",
            "\u001b[K     |████████████████████████████████| 225kB 6.8MB/s \n",
            "\u001b[?25hRequirement already satisfied: numpy<2.0.0,>=1.18.5 in /usr/local/lib/python3.7/dist-packages (from funpymodeling) (1.19.5)\n",
            "Requirement already satisfied: pandas<2.0.0,>=1.0.5 in /usr/local/lib/python3.7/dist-packages (from funpymodeling) (1.1.5)\n",
            "Requirement already satisfied: matplotlib<4.0.0,>=3.2.2 in /usr/local/lib/python3.7/dist-packages (from funpymodeling) (3.2.2)\n",
            "Requirement already satisfied: typing-extensions<4.0.0,>=3.7.4; python_version < \"3.8\" in /usr/local/lib/python3.7/dist-packages (from funpymodeling) (3.7.4.3)\n",
            "Requirement already satisfied: sklearn<0.1,>=0.0 in /usr/local/lib/python3.7/dist-packages (from funpymodeling) (0.0)\n",
            "Requirement already satisfied: scipy>=1.0.1 in /usr/local/lib/python3.7/dist-packages (from seaborn<0.11.0,>=0.10.1->funpymodeling) (1.4.1)\n",
            "Requirement already satisfied: python-dateutil>=2.7.3 in /usr/local/lib/python3.7/dist-packages (from pandas<2.0.0,>=1.0.5->funpymodeling) (2.8.1)\n",
            "Requirement already satisfied: pytz>=2017.2 in /usr/local/lib/python3.7/dist-packages (from pandas<2.0.0,>=1.0.5->funpymodeling) (2018.9)\n",
            "Requirement already satisfied: cycler>=0.10 in /usr/local/lib/python3.7/dist-packages (from matplotlib<4.0.0,>=3.2.2->funpymodeling) (0.10.0)\n",
            "Requirement already satisfied: kiwisolver>=1.0.1 in /usr/local/lib/python3.7/dist-packages (from matplotlib<4.0.0,>=3.2.2->funpymodeling) (1.3.1)\n",
            "Requirement already satisfied: pyparsing!=2.0.4,!=2.1.2,!=2.1.6,>=2.0.1 in /usr/local/lib/python3.7/dist-packages (from matplotlib<4.0.0,>=3.2.2->funpymodeling) (2.4.7)\n",
            "Requirement already satisfied: scikit-learn in /usr/local/lib/python3.7/dist-packages (from sklearn<0.1,>=0.0->funpymodeling) (0.22.2.post1)\n",
            "Requirement already satisfied: six>=1.5 in /usr/local/lib/python3.7/dist-packages (from python-dateutil>=2.7.3->pandas<2.0.0,>=1.0.5->funpymodeling) (1.15.0)\n",
            "Requirement already satisfied: joblib>=0.11 in /usr/local/lib/python3.7/dist-packages (from scikit-learn->sklearn<0.1,>=0.0->funpymodeling) (1.0.1)\n",
            "Installing collected packages: seaborn, funpymodeling\n",
            "  Found existing installation: seaborn 0.11.1\n",
            "    Uninstalling seaborn-0.11.1:\n",
            "      Successfully uninstalled seaborn-0.11.1\n",
            "Successfully installed funpymodeling-0.1.7 seaborn-0.10.1\n"
          ],
          "name": "stdout"
        },
        {
          "output_type": "stream",
          "text": [
            "/usr/local/lib/python3.7/dist-packages/statsmodels/tools/_testing.py:19: FutureWarning: pandas.util.testing is deprecated. Use the functions in the public API at pandas.testing instead.\n",
            "  import pandas.util.testing as tm\n"
          ],
          "name": "stderr"
        }
      ]
    },
    {
      "cell_type": "code",
      "metadata": {
        "colab": {
          "base_uri": "https://localhost:8080/"
        },
        "id": "1-cERyfDvMQa",
        "outputId": "2f869ce3-d11d-4718-8d31-9be2a6633d89"
      },
      "source": [
        "df_songs.shape #Se observa que la base tiene 32.833 registros con 23 atributos a considerar"
      ],
      "execution_count": null,
      "outputs": [
        {
          "output_type": "execute_result",
          "data": {
            "text/plain": [
              "(32833, 23)"
            ]
          },
          "metadata": {
            "tags": []
          },
          "execution_count": 5
        }
      ]
    },
    {
      "cell_type": "code",
      "metadata": {
        "colab": {
          "base_uri": "https://localhost:8080/",
          "height": 316
        },
        "id": "wj8CJaCW1cyc",
        "outputId": "a6ed7526-932e-4e85-8bc3-cd7fdd654f91"
      },
      "source": [
        "df_songs.describe()"
      ],
      "execution_count": null,
      "outputs": [
        {
          "output_type": "execute_result",
          "data": {
            "text/html": [
              "<div>\n",
              "<style scoped>\n",
              "    .dataframe tbody tr th:only-of-type {\n",
              "        vertical-align: middle;\n",
              "    }\n",
              "\n",
              "    .dataframe tbody tr th {\n",
              "        vertical-align: top;\n",
              "    }\n",
              "\n",
              "    .dataframe thead th {\n",
              "        text-align: right;\n",
              "    }\n",
              "</style>\n",
              "<table border=\"1\" class=\"dataframe\">\n",
              "  <thead>\n",
              "    <tr style=\"text-align: right;\">\n",
              "      <th></th>\n",
              "      <th>track_popularity</th>\n",
              "      <th>danceability</th>\n",
              "      <th>energy</th>\n",
              "      <th>key</th>\n",
              "      <th>loudness</th>\n",
              "      <th>mode</th>\n",
              "      <th>speechiness</th>\n",
              "      <th>acousticness</th>\n",
              "      <th>instrumentalness</th>\n",
              "      <th>liveness</th>\n",
              "      <th>valence</th>\n",
              "      <th>tempo</th>\n",
              "      <th>duration_ms</th>\n",
              "    </tr>\n",
              "  </thead>\n",
              "  <tbody>\n",
              "    <tr>\n",
              "      <th>count</th>\n",
              "      <td>32833.000000</td>\n",
              "      <td>32833.000000</td>\n",
              "      <td>32833.000000</td>\n",
              "      <td>32833.000000</td>\n",
              "      <td>32833.000000</td>\n",
              "      <td>32833.000000</td>\n",
              "      <td>32833.000000</td>\n",
              "      <td>32833.000000</td>\n",
              "      <td>32833.000000</td>\n",
              "      <td>32833.000000</td>\n",
              "      <td>32833.000000</td>\n",
              "      <td>32833.000000</td>\n",
              "      <td>32833.000000</td>\n",
              "    </tr>\n",
              "    <tr>\n",
              "      <th>mean</th>\n",
              "      <td>42.477081</td>\n",
              "      <td>0.654850</td>\n",
              "      <td>0.698619</td>\n",
              "      <td>5.374471</td>\n",
              "      <td>-6.719499</td>\n",
              "      <td>0.565711</td>\n",
              "      <td>0.107068</td>\n",
              "      <td>0.175334</td>\n",
              "      <td>0.084747</td>\n",
              "      <td>0.190176</td>\n",
              "      <td>0.510561</td>\n",
              "      <td>120.881132</td>\n",
              "      <td>225799.811622</td>\n",
              "    </tr>\n",
              "    <tr>\n",
              "      <th>std</th>\n",
              "      <td>24.984074</td>\n",
              "      <td>0.145085</td>\n",
              "      <td>0.180910</td>\n",
              "      <td>3.611657</td>\n",
              "      <td>2.988436</td>\n",
              "      <td>0.495671</td>\n",
              "      <td>0.101314</td>\n",
              "      <td>0.219633</td>\n",
              "      <td>0.224230</td>\n",
              "      <td>0.154317</td>\n",
              "      <td>0.233146</td>\n",
              "      <td>26.903624</td>\n",
              "      <td>59834.006182</td>\n",
              "    </tr>\n",
              "    <tr>\n",
              "      <th>min</th>\n",
              "      <td>0.000000</td>\n",
              "      <td>0.000000</td>\n",
              "      <td>0.000175</td>\n",
              "      <td>0.000000</td>\n",
              "      <td>-46.448000</td>\n",
              "      <td>0.000000</td>\n",
              "      <td>0.000000</td>\n",
              "      <td>0.000000</td>\n",
              "      <td>0.000000</td>\n",
              "      <td>0.000000</td>\n",
              "      <td>0.000000</td>\n",
              "      <td>0.000000</td>\n",
              "      <td>4000.000000</td>\n",
              "    </tr>\n",
              "    <tr>\n",
              "      <th>25%</th>\n",
              "      <td>24.000000</td>\n",
              "      <td>0.563000</td>\n",
              "      <td>0.581000</td>\n",
              "      <td>2.000000</td>\n",
              "      <td>-8.171000</td>\n",
              "      <td>0.000000</td>\n",
              "      <td>0.041000</td>\n",
              "      <td>0.015100</td>\n",
              "      <td>0.000000</td>\n",
              "      <td>0.092700</td>\n",
              "      <td>0.331000</td>\n",
              "      <td>99.960000</td>\n",
              "      <td>187819.000000</td>\n",
              "    </tr>\n",
              "    <tr>\n",
              "      <th>50%</th>\n",
              "      <td>45.000000</td>\n",
              "      <td>0.672000</td>\n",
              "      <td>0.721000</td>\n",
              "      <td>6.000000</td>\n",
              "      <td>-6.166000</td>\n",
              "      <td>1.000000</td>\n",
              "      <td>0.062500</td>\n",
              "      <td>0.080400</td>\n",
              "      <td>0.000016</td>\n",
              "      <td>0.127000</td>\n",
              "      <td>0.512000</td>\n",
              "      <td>121.984000</td>\n",
              "      <td>216000.000000</td>\n",
              "    </tr>\n",
              "    <tr>\n",
              "      <th>75%</th>\n",
              "      <td>62.000000</td>\n",
              "      <td>0.761000</td>\n",
              "      <td>0.840000</td>\n",
              "      <td>9.000000</td>\n",
              "      <td>-4.645000</td>\n",
              "      <td>1.000000</td>\n",
              "      <td>0.132000</td>\n",
              "      <td>0.255000</td>\n",
              "      <td>0.004830</td>\n",
              "      <td>0.248000</td>\n",
              "      <td>0.693000</td>\n",
              "      <td>133.918000</td>\n",
              "      <td>253585.000000</td>\n",
              "    </tr>\n",
              "    <tr>\n",
              "      <th>max</th>\n",
              "      <td>100.000000</td>\n",
              "      <td>0.983000</td>\n",
              "      <td>1.000000</td>\n",
              "      <td>11.000000</td>\n",
              "      <td>1.275000</td>\n",
              "      <td>1.000000</td>\n",
              "      <td>0.918000</td>\n",
              "      <td>0.994000</td>\n",
              "      <td>0.994000</td>\n",
              "      <td>0.996000</td>\n",
              "      <td>0.991000</td>\n",
              "      <td>239.440000</td>\n",
              "      <td>517810.000000</td>\n",
              "    </tr>\n",
              "  </tbody>\n",
              "</table>\n",
              "</div>"
            ],
            "text/plain": [
              "       track_popularity  danceability  ...         tempo    duration_ms\n",
              "count      32833.000000  32833.000000  ...  32833.000000   32833.000000\n",
              "mean          42.477081      0.654850  ...    120.881132  225799.811622\n",
              "std           24.984074      0.145085  ...     26.903624   59834.006182\n",
              "min            0.000000      0.000000  ...      0.000000    4000.000000\n",
              "25%           24.000000      0.563000  ...     99.960000  187819.000000\n",
              "50%           45.000000      0.672000  ...    121.984000  216000.000000\n",
              "75%           62.000000      0.761000  ...    133.918000  253585.000000\n",
              "max          100.000000      0.983000  ...    239.440000  517810.000000\n",
              "\n",
              "[8 rows x 13 columns]"
            ]
          },
          "metadata": {
            "tags": []
          },
          "execution_count": 4
        }
      ]
    },
    {
      "cell_type": "code",
      "metadata": {
        "colab": {
          "base_uri": "https://localhost:8080/"
        },
        "id": "WDCt1IIEC4dy",
        "outputId": "8d5f6a91-96bb-4d8a-aeed-1461fd53435e"
      },
      "source": [
        "df_songs.columns"
      ],
      "execution_count": null,
      "outputs": [
        {
          "output_type": "execute_result",
          "data": {
            "text/plain": [
              "Index(['track_id', 'track_name', 'track_artist', 'track_popularity',\n",
              "       'track_album_id', 'track_album_name', 'track_album_release_date',\n",
              "       'playlist_name', 'playlist_id', 'playlist_genre', 'playlist_subgenre',\n",
              "       'danceability', 'energy', 'key', 'loudness', 'mode', 'speechiness',\n",
              "       'acousticness', 'instrumentalness', 'liveness', 'valence', 'tempo',\n",
              "       'duration_ms'],\n",
              "      dtype='object')"
            ]
          },
          "metadata": {
            "tags": []
          },
          "execution_count": 6
        }
      ]
    },
    {
      "cell_type": "code",
      "metadata": {
        "id": "pCm9pvGc2WSd"
      },
      "source": [
        "status(df_songs)"
      ],
      "execution_count": null,
      "outputs": []
    },
    {
      "cell_type": "code",
      "metadata": {
        "id": "rgNXwNq22njd"
      },
      "source": [
        "freq_tbl(df_songs)"
      ],
      "execution_count": null,
      "outputs": []
    },
    {
      "cell_type": "code",
      "metadata": {
        "id": "H1nhSUHB2ykP"
      },
      "source": [
        "profiling_num(df_songs)"
      ],
      "execution_count": null,
      "outputs": []
    },
    {
      "cell_type": "code",
      "metadata": {
        "id": "zL3VOBs8EYl8"
      },
      "source": [
        "df_d = df_songs.drop_duplicates()"
      ],
      "execution_count": null,
      "outputs": []
    },
    {
      "cell_type": "markdown",
      "metadata": {
        "id": "wLjxd01waBnH"
      },
      "source": [
        "Se observa que la base de Spotify, contiene"
      ]
    },
    {
      "cell_type": "code",
      "metadata": {
        "id": "VsP2Jtb9R7z6"
      },
      "source": [
        "df2=df_d[['track_popularity','track_name', 'track_artist']][df_d.track_popularity == df_d['track_popularity'].max()]\n",
        "df2"
      ],
      "execution_count": null,
      "outputs": []
    },
    {
      "cell_type": "code",
      "metadata": {
        "id": "mEUNaoGNSnIn"
      },
      "source": [
        "print(df2['track_name'][df_d.track_popularity == df_d.track_popularity.max()])"
      ],
      "execution_count": null,
      "outputs": []
    },
    {
      "cell_type": "code",
      "metadata": {
        "id": "cgYM9mAq2A71"
      },
      "source": [
        "# Acá te dejo el ejemplo\n",
        "df2['track_name']"
      ],
      "execution_count": null,
      "outputs": []
    },
    {
      "cell_type": "code",
      "metadata": {
        "id": "HxGA4ppuTd6I"
      },
      "source": [
        "name_max=df2.iloc[1,1]\n",
        "name_max"
      ],
      "execution_count": null,
      "outputs": []
    },
    {
      "cell_type": "code",
      "metadata": {
        "id": "Jx6UrVBm2eUQ"
      },
      "source": [
        "# Acá te dejo el ejemplo\n",
        "df2['track_name'].unique()[0]"
      ],
      "execution_count": null,
      "outputs": []
    },
    {
      "cell_type": "code",
      "metadata": {
        "id": "Jbq7xkLYWHAn"
      },
      "source": [
        "artista_max=df2.iloc[1,2]\n",
        "artista_max"
      ],
      "execution_count": null,
      "outputs": []
    },
    {
      "cell_type": "code",
      "metadata": {
        "id": "MSN-btpj3D2r"
      },
      "source": [
        "# Acá te dejo el ejemplo\n",
        "df2['track_artist'].unique()[0]"
      ],
      "execution_count": null,
      "outputs": []
    },
    {
      "cell_type": "code",
      "metadata": {
        "id": "KOYxjLmIXHlU"
      },
      "source": [
        "genero=freq_tbl(df_d['playlist_genre']).sort_values('playlist_genre', ascending=True)\n",
        "genero"
      ],
      "execution_count": null,
      "outputs": []
    },
    {
      "cell_type": "code",
      "metadata": {
        "id": "Rs3HW5qQYEGm"
      },
      "source": [
        "genero_max=genero.iloc[0,0]\n",
        "genero_max"
      ],
      "execution_count": null,
      "outputs": []
    },
    {
      "cell_type": "code",
      "metadata": {
        "id": "T-xsZGWL9JCa"
      },
      "source": [
        "#Chatbot (intento)\n",
        "\n",
        "saludo_inicial= input( 'Hola mi nombre es Skynet, como te llamas tu?  ')\n",
        "print(\"     \")\n",
        "print('Es un gusto tenerte ' + saludo_inicial)\n",
        "print(\"     \")\n",
        "print( 'Soy una version de prueba, pero a mi disposicion tengo datos de la app Spotify')\n",
        "print(\"     \")\n",
        "print('Por el momento te puedo contestar 3 preguntas')\n",
        "print(\"     \")\n",
        "print('1. Cual es la cancion mas popular? ')\n",
        "print('2. Cual es el autor o autora de la cancion mas popular? ')\n",
        "print('3. El genero mas escuchado es?')\n",
        "print(\"     \")\n",
        "print(\"     \")\n",
        "selection= int(input('Por favor, ingresa el n* de opcion:  '))\n",
        "print(\"     \")\n",
        "\n",
        "\n",
        "def eleccion_menu(selection):\n",
        "  if selection == 1:\n",
        "    print('La cancion con mayor popularidad es: %s' % (name_max))\n",
        "  elif selection == 2:\n",
        "    print('El autor o autora de la cancion con mayor popularidad es: %s' % (artista_max) )\n",
        "  elif selection==3:\n",
        "    print('El genero que mas se escucha es: %s' % (genero_max) )\n",
        "  else:\n",
        "    print('Lo siento esa seleccion no es válida, intenta de nuevo :(')\n",
        "\n",
        "eleccion_menu(selection)"
      ],
      "execution_count": null,
      "outputs": []
    },
    {
      "cell_type": "code",
      "metadata": {
        "id": "VzZl8er_ivyD"
      },
      "source": [],
      "execution_count": null,
      "outputs": []
    }
  ]
}